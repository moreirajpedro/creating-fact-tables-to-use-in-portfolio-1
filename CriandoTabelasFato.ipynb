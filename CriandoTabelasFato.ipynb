{
 "cells": [
  {
   "cell_type": "code",
   "execution_count": 7,
   "metadata": {},
   "outputs": [],
   "source": [
    "import random\n",
    "import pandas as pd\n",
    "import time as timelibrary"
   ]
  },
  {
   "cell_type": "code",
   "execution_count": 56,
   "metadata": {},
   "outputs": [],
   "source": [
    "def strTimeProp(start, prop):\n",
    "\n",
    "    stime = timelibrary.mktime(timelibrary.strptime(start, '%d/%m/%Y %I:%M %p'))\n",
    "    etime = timelibrary.mktime(timelibrary.strptime(\"31/3/2021 8:30 PM\", '%d/%m/%Y %I:%M %p'))\n",
    "\n",
    "    ptime = stime + prop * (etime - stime)\n",
    "\n",
    "    return timelibrary.strftime('%d/%m/%Y %I:%M %p', timelibrary.localtime(ptime))\n",
    "\n",
    "\n",
    "def randomDate(start, prop):\n",
    "    return strTimeProp(start, prop).split(\" \", 1)"
   ]
  },
  {
   "cell_type": "code",
   "execution_count": 157,
   "metadata": {},
   "outputs": [],
   "source": [
    "# Gerando fAquisicaoLead\n",
    "fAquisicaoLead = []\n",
    "for index in range (500000):\n",
    "    [date, time] = randomDate(\"1/1/2018 6:30 AM\", random.random())\n",
    "    fAquisicaoLead.append([\n",
    "        index, \n",
    "        date, \n",
    "        time, \n",
    "        random.randrange(0,19,1), # Status do Lead \n",
    "        random.randrange(0,10,1), # Equipe\n",
    "        random.randrange(0,28,1), # Estado\n",
    "        random.randrange(0,5,1) # Canal\n",
    "    ])"
   ]
  },
  {
   "cell_type": "code",
   "execution_count": 158,
   "metadata": {},
   "outputs": [],
   "source": [
    "# Criando um DataFrame a partir do Array gerado\n",
    "fAqLead = pd.DataFrame(fAquisicaoLead, columns=['idlead', 'dt_registro', 'hora_registro', 'idstatus', 'idequipe', 'idestado', 'idcanal'])"
   ]
  },
  {
   "cell_type": "code",
   "execution_count": 159,
   "metadata": {},
   "outputs": [],
   "source": [
    "# Exportando o DataFrame para Excel\n",
    "fAqLead.to_excel(\"./fAquisicaoLead.xlsx\")"
   ]
  },
  {
   "cell_type": "code",
   "execution_count": 221,
   "metadata": {},
   "outputs": [],
   "source": [
    "# Gerando fVenda\n",
    "fVend = []\n",
    "indexVenda = 0\n",
    "somatorioVendasStatus = 0\n",
    "for index, row in fAqLead.iterrows():\n",
    "    [idlead, dt_registro, hora_registro, idstatus, idequipe, idestado, idcanal] = row\n",
    "    if idstatus == 3 or idstatus == 4 or idstatus == 5:\n",
    "        start = dt_registro + \" \" + hora_registro\n",
    "        [date, time] = randomDate(start, random.random())\n",
    "        valor_final = round(random.random()*1000,2)\n",
    "        qtd_vidas = int(valor_final/100) + 1\n",
    "        vendastatus = random.randrange(0,2,1)\n",
    "        somatorioVendasStatus += vendastatus\n",
    "        proporcaoStatusQtd = somatorioVendasStatus / (indexVenda+1)\n",
    "        if proporcaoStatusQtd >= 0.498:\n",
    "            fVend.append([\n",
    "                indexVenda,\n",
    "                idlead,\n",
    "                valor_final,\n",
    "                qtd_vidas,\n",
    "                date, #data_venda\n",
    "                idstatus,\n",
    "                0, #venda_status\n",
    "                idcanal,\n",
    "                idestado,\n",
    "                idequipe\n",
    "            ])\n",
    "        else:\n",
    "            fVend.append([\n",
    "                indexVenda,\n",
    "                idlead,\n",
    "                valor_final,\n",
    "                qtd_vidas,\n",
    "                date, #data_venda\n",
    "                idstatus,\n",
    "                vendastatus, #venda_status\n",
    "                idcanal,\n",
    "                idestado,\n",
    "                idequipe\n",
    "            ])\n",
    "        indexVenda += 1"
   ]
  },
  {
   "cell_type": "code",
   "execution_count": 222,
   "metadata": {},
   "outputs": [],
   "source": [
    "# Criando um DataFrame a partir do Array gerado\n",
    "fVenda = pd.DataFrame(fVend, columns=['idvenda', 'idlead', 'valor_final', 'qtd_vidas', 'data_venda', 'idstatus', 'idvendastatus', 'idcanal', 'idestado', 'idequipe'])"
   ]
  },
  {
   "cell_type": "code",
   "execution_count": 223,
   "metadata": {},
   "outputs": [],
   "source": [
    "# Exportando o DataFrame para Excel\n",
    "fVenda.to_excel(\"./fVenda.xlsx\")"
   ]
  },
  {
   "cell_type": "code",
   "execution_count": 224,
   "metadata": {},
   "outputs": [
    {
     "data": {
      "text/html": [
       "<div>\n",
       "<style scoped>\n",
       "    .dataframe tbody tr th:only-of-type {\n",
       "        vertical-align: middle;\n",
       "    }\n",
       "\n",
       "    .dataframe tbody tr th {\n",
       "        vertical-align: top;\n",
       "    }\n",
       "\n",
       "    .dataframe thead th {\n",
       "        text-align: right;\n",
       "    }\n",
       "</style>\n",
       "<table border=\"1\" class=\"dataframe\">\n",
       "  <thead>\n",
       "    <tr style=\"text-align: right;\">\n",
       "      <th></th>\n",
       "      <th>idvenda</th>\n",
       "      <th>idlead</th>\n",
       "      <th>valor_final</th>\n",
       "      <th>qtd_vidas</th>\n",
       "      <th>data_venda</th>\n",
       "      <th>idstatus</th>\n",
       "      <th>idvendastatus</th>\n",
       "      <th>idcanal</th>\n",
       "      <th>idestado</th>\n",
       "      <th>idequipe</th>\n",
       "    </tr>\n",
       "  </thead>\n",
       "  <tbody>\n",
       "    <tr>\n",
       "      <th>0</th>\n",
       "      <td>0</td>\n",
       "      <td>0</td>\n",
       "      <td>274.45</td>\n",
       "      <td>3</td>\n",
       "      <td>20/06/2019</td>\n",
       "      <td>5</td>\n",
       "      <td>0</td>\n",
       "      <td>1</td>\n",
       "      <td>8</td>\n",
       "      <td>5</td>\n",
       "    </tr>\n",
       "    <tr>\n",
       "      <th>1</th>\n",
       "      <td>1</td>\n",
       "      <td>4</td>\n",
       "      <td>398.68</td>\n",
       "      <td>4</td>\n",
       "      <td>05/08/2020</td>\n",
       "      <td>5</td>\n",
       "      <td>0</td>\n",
       "      <td>4</td>\n",
       "      <td>10</td>\n",
       "      <td>8</td>\n",
       "    </tr>\n",
       "    <tr>\n",
       "      <th>2</th>\n",
       "      <td>2</td>\n",
       "      <td>10</td>\n",
       "      <td>412.68</td>\n",
       "      <td>5</td>\n",
       "      <td>12/02/2021</td>\n",
       "      <td>3</td>\n",
       "      <td>1</td>\n",
       "      <td>0</td>\n",
       "      <td>23</td>\n",
       "      <td>7</td>\n",
       "    </tr>\n",
       "    <tr>\n",
       "      <th>3</th>\n",
       "      <td>3</td>\n",
       "      <td>15</td>\n",
       "      <td>423.02</td>\n",
       "      <td>5</td>\n",
       "      <td>25/02/2021</td>\n",
       "      <td>3</td>\n",
       "      <td>0</td>\n",
       "      <td>4</td>\n",
       "      <td>26</td>\n",
       "      <td>7</td>\n",
       "    </tr>\n",
       "    <tr>\n",
       "      <th>4</th>\n",
       "      <td>4</td>\n",
       "      <td>19</td>\n",
       "      <td>835.03</td>\n",
       "      <td>9</td>\n",
       "      <td>12/09/2018</td>\n",
       "      <td>4</td>\n",
       "      <td>1</td>\n",
       "      <td>2</td>\n",
       "      <td>15</td>\n",
       "      <td>3</td>\n",
       "    </tr>\n",
       "  </tbody>\n",
       "</table>\n",
       "</div>"
      ],
      "text/plain": [
       "   idvenda  idlead  valor_final  qtd_vidas  data_venda  idstatus  \\\n",
       "0        0       0       274.45          3  20/06/2019         5   \n",
       "1        1       4       398.68          4  05/08/2020         5   \n",
       "2        2      10       412.68          5  12/02/2021         3   \n",
       "3        3      15       423.02          5  25/02/2021         3   \n",
       "4        4      19       835.03          9  12/09/2018         4   \n",
       "\n",
       "   idvendastatus  idcanal  idestado  idequipe  \n",
       "0              0        1         8         5  \n",
       "1              0        4        10         8  \n",
       "2              1        0        23         7  \n",
       "3              0        4        26         7  \n",
       "4              1        2        15         3  "
      ]
     },
     "execution_count": 224,
     "metadata": {},
     "output_type": "execute_result"
    }
   ],
   "source": [
    "fVenda.head()"
   ]
  }
 ],
 "metadata": {
  "kernelspec": {
   "display_name": "Python 3",
   "language": "python",
   "name": "python3"
  },
  "language_info": {
   "codemirror_mode": {
    "name": "ipython",
    "version": 3
   },
   "file_extension": ".py",
   "mimetype": "text/x-python",
   "name": "python",
   "nbconvert_exporter": "python",
   "pygments_lexer": "ipython3",
   "version": "3.8.5"
  }
 },
 "nbformat": 4,
 "nbformat_minor": 4
}
